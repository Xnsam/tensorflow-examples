{
 "cells": [
  {
   "cell_type": "code",
   "execution_count": 40,
   "metadata": {},
   "outputs": [],
   "source": [
    "import cv2\n",
    "import numpy as np\n",
    "from matplotlib import pyplot as plt\n",
    "import numpy\n",
    "\n",
    "def plot():\n",
    "    img = cv2.imread('images/predict/4a.jpg')\n",
    "    blur = cv2.GaussianBlur(img,(5,5),10)\n",
    "    plt.subplot(121),plt.imshow(img),plt.title('Original')\n",
    "    plt.xticks([]), plt.yticks([])\n",
    "    plt.subplot(122),plt.imshow(blur),plt.title('Blurred')\n",
    "    plt.xticks([]), plt.yticks([])\n",
    "    plt.show()"
   ]
  },
  {
   "cell_type": "code",
   "execution_count": 41,
   "metadata": {},
   "outputs": [],
   "source": [
    "import os\n",
    "import glob\n",
    "import random\n",
    "import cv2\n",
    "import numpy\n",
    "\n",
    "train_directory = \"images/training/\"\n",
    "dirs = os.listdir(train_directory )\n",
    "test_directory = \"images/testing/\"\n",
    "file_pattern = \"*.jpg\"\n",
    "\n",
    "def generate_test(source_dir,test_class_dir):   \n",
    "        path=os.path.join(source_dir, files);   \n",
    "        filenames = glob.glob(path)\n",
    "        random.shuffle(filenames)\n",
    "        filenames=filenames[:4]        \n",
    "        \n",
    "        for name in filenames:\n",
    "            img = cv2.imread(name)\n",
    "            blur = cv2.GaussianBlur(img,(5,5),1)\n",
    "            file_name=os.path.basename(name)\n",
    "            dest_basename=os.path.join(destination_directory, test_class_dir)\n",
    "            if not os.path.exists(dest_basename):\n",
    "                os.makedirs(dest_basename)                \n",
    "            cv2.imwrite(os.path.join(dest_basename,file_name),blur)\n",
    "            \n",
    "def crop_image():\n",
    "    img = cv2.imread(\"images/predict/kha2.jpg\")\n",
    "    w=0\n",
    "    for i in range(5):                 \n",
    "        crop_img = img[0:50, w:w+35]\n",
    "        w=w+33\n",
    "        filename=str(i+8)+\".jpg\";\n",
    "        cv2.imwrite(os.path.join(train_directory,\"2\",filename),crop_img)\n",
    "\n",
    "\n",
    "def resize(directory_path,class_path):\n",
    "    print(directory_path+\" \"+class_path)\n",
    "    path=os.path.join(directory_path,class_path,file_pattern);\n",
    "    print(path)\n",
    "    filenames = glob.glob(path)\n",
    "    print(filenames)\n",
    "    for f in filenames:               \n",
    "            basewidth = 28\n",
    "            image = cv2.imread(f)       \n",
    "            dim = (basewidth, basewidth)\n",
    "            resized = cv2.resize(image, dim, interpolation = cv2.INTER_AREA)           \n",
    "            cv2.imwrite(f,resized)\n",
    "        \n",
    "def resize_image(class_path):       \n",
    "       resize(train_directory,class_path)\n",
    "       resize(test_directory,class_path)\n",
    "        "
   ]
  },
  {
   "cell_type": "code",
   "execution_count": 42,
   "metadata": {},
   "outputs": [],
   "source": [
    "\n",
    "def show_img():\n",
    "     \n",
    "    img2=numpy.zeros((28,28))\n",
    "    \n",
    "    for i in range(10):\n",
    "          for j in range(15):\n",
    "            img2[i][j]=255\n",
    "            \n",
    "    print(img2)\n",
    "    #img2=255-img2\n",
    "    print(img2.shape)\n",
    "    print(img2)\n",
    "    cv2.imshow(\"image\", img2);\n",
    "    cv2.waitKey();\n",
    "    \n",
    "   "
   ]
  },
  {
   "cell_type": "code",
   "execution_count": 45,
   "metadata": {},
   "outputs": [
    {
     "name": "stdout",
     "output_type": "stream",
     "text": [
      "images/training/ 2\n",
      "images/training/2\\*.jpg\n",
      "['images/training/2\\\\0.jpg', 'images/training/2\\\\1.jpg', 'images/training/2\\\\10.JPG', 'images/training/2\\\\2.jpg', 'images/training/2\\\\3.jpg', 'images/training/2\\\\5.jpg', 'images/training/2\\\\6.jpg', 'images/training/2\\\\7.jpg', 'images/training/2\\\\8.jpg', 'images/training/2\\\\9.JPG', 'images/training/2\\\\kha1.jpg', 'images/training/2\\\\kha3.jpg', 'images/training/2\\\\khha.jpg']\n",
      "images/testing/ 2\n",
      "images/testing/2\\*.jpg\n",
      "['images/testing/2\\\\10.jpg', 'images/testing/2\\\\11.jpg', 'images/testing/2\\\\5.JPG', 'images/testing/2\\\\9.jpg', 'images/testing/2\\\\kha1.jpg']\n"
     ]
    }
   ],
   "source": [
    "if __name__ == \"__main__\":\n",
    "    resize_image(\"2\")       \n",
    "    #crop_image()    \n",
    "    #generate_test(os.path.join(data_directory,\"2\"),\"2\")   \n",
    "    #show_img()"
   ]
  }
 ],
 "metadata": {
  "kernelspec": {
   "display_name": "Python 3",
   "language": "python",
   "name": "python3"
  },
  "language_info": {
   "codemirror_mode": {
    "name": "ipython",
    "version": 3
   },
   "file_extension": ".py",
   "mimetype": "text/x-python",
   "name": "python",
   "nbconvert_exporter": "python",
   "pygments_lexer": "ipython3",
   "version": "3.6.3"
  }
 },
 "nbformat": 4,
 "nbformat_minor": 2
}
