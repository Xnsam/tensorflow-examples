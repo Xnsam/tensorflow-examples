{
 "cells": [
  {
   "cell_type": "code",
   "execution_count": null,
   "metadata": {},
   "outputs": [],
   "source": [
    "from keras.models import load_model\n",
    "from keras.preprocessing.image import ImageDataGenerator, array_to_img, img_to_array, load_img\n",
    "import numpy as np\n",
    "%matplotlib inline\n",
    "from matplotlib import pyplot as plt\n",
    "import matplotlib.image as matimg\n",
    "\n",
    "def resize(image_url):\n",
    "    baseDimen = 28\n",
    "    img = Image.open(image_url)     \n",
    "    img = img.resize((baseDimen,baseDimen), Image.ANTIALIAS)\n",
    "    img = img.convert(\"L\")\n",
    "    return img\n",
    "\n",
    "img = load_img('images/predict/ka1.jpg',target_size=[28,28],grayscale=True)  # this is a PIL image\n",
    "x = img_to_array(img)  # this is a Numpy array with shape (1, 150, 150)\n",
    "\n",
    "\n",
    "img=matimg.imread('images/predict/ka1.jpg')\n",
    "img = img.filter(ImageFilter.SHARPEN)\n",
    "plt.imshow(img)\n",
    "\n",
    "x = x.reshape((1,) + x.shape)  # this is a Numpy array with shape (1, 3, 150, 150)\n",
    "print(x.shape)\n",
    "\n",
    "\n",
    "\n",
    "model = load_model('first_try.h5')\n",
    "ynew = model.predict_classes(x)\n",
    "print(ynew)\n"
   ]
  },
  {
   "cell_type": "code",
   "execution_count": null,
   "metadata": {},
   "outputs": [],
   "source": []
  },
  {
   "cell_type": "code",
   "execution_count": null,
   "metadata": {},
   "outputs": [],
   "source": []
  }
 ],
 "metadata": {
  "kernelspec": {
   "display_name": "Python 3",
   "language": "python",
   "name": "python3"
  },
  "language_info": {
   "codemirror_mode": {
    "name": "ipython",
    "version": 3
   },
   "file_extension": ".py",
   "mimetype": "text/x-python",
   "name": "python",
   "nbconvert_exporter": "python",
   "pygments_lexer": "ipython3",
   "version": "3.6.3"
  }
 },
 "nbformat": 4,
 "nbformat_minor": 2
}
