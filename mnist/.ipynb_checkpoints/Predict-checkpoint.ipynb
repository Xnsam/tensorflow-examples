{
 "cells": [
  {
   "cell_type": "code",
   "execution_count": 21,
   "metadata": {},
   "outputs": [
    {
     "name": "stdout",
     "output_type": "stream",
     "text": [
      "(28, 28, 1)\n"
     ]
    },
    {
     "data": {
      "image/png": "[encoded data removed]",
      "text/plain": [
       "<matplotlib.figure.Figure at 0x228af3be978>"
      ]
     },
     "metadata": {},
     "output_type": "display_data"
    },
    {
     "name": "stdout",
     "output_type": "stream",
     "text": [
      "(1, 28, 28, 1)\n",
      "[[0]]\n"
     ]
    },
    {
     "data": {
      "text/plain": [
       "\"\\nx = img_to_array(img)  # this is a Numpy array with shape (1, 150, 150)\\n\\n\\nx = x.reshape((1,) + x.shape)  # this is a Numpy array with shape (1, 3, 150, 150)\\nprint(x.shape)\\n\\nmodel = load_model('first_try.h5')\\nynew = model.predict_classes(x)\\nprint(ynew)\\n\""
      ]
     },
     "execution_count": 21,
     "metadata": {},
     "output_type": "execute_result"
    }
   ],
   "source": [
    "from keras.models import load_model\n",
    "from keras.preprocessing.image import ImageDataGenerator, array_to_img, img_to_array, load_img\n",
    "import numpy as np\n",
    "%matplotlib inline\n",
    "from matplotlib import pyplot as plt\n",
    "from PIL import Image\n",
    "\n",
    "def resize(image_url):\n",
    "    baseDimen = 28\n",
    "    img = Image.open(image_url)     \n",
    "    img = img.resize((baseDimen,baseDimen), Image.ANTIALIAS)\n",
    "    img = img.convert(\"L\")\n",
    "    return img\n",
    "\n",
    "#img = load_img('images/predict/aa1.jpg',target_size=[28,28],grayscale=True)  # this is a PIL image\n",
    "im = resize(\"images/predict/aa1.jpg\")\n",
    "arr = np.asarray(im)\n",
    "print(x.shape)\n",
    "plt.imshow(arr, cmap='gray')\n",
    "plt.show()\n",
    "\n",
    "x = x.reshape((1,) + x.shape)  # this is a Numpy array with shape (1, 3, 150, 150)\n",
    "print(x.shape)\n",
    "\n",
    "model = load_model('first_try.h5')\n",
    "ynew = model.predict_classes(x)\n",
    "print(ynew)\n",
    " "
   ]
  },
  {
   "cell_type": "code",
   "execution_count": null,
   "metadata": {},
   "outputs": [],
   "source": []
  }
 ],
 "metadata": {
  "kernelspec": {
   "display_name": "Python 3",
   "language": "python",
   "name": "python3"
  },
  "language_info": {
   "codemirror_mode": {
    "name": "ipython",
    "version": 3
   },
   "file_extension": ".py",
   "mimetype": "text/x-python",
   "name": "python",
   "nbconvert_exporter": "python",
   "pygments_lexer": "ipython3",
   "version": "3.6.3"
  }
 },
 "nbformat": 4,
 "nbformat_minor": 2
}
