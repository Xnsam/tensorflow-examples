{
 "cells": [
  {
   "cell_type": "code",
   "execution_count": 12,
   "metadata": {},
   "outputs": [
    {
     "name": "stdout",
     "output_type": "stream",
     "text": [
      "[2]\n"
     ]
    },
    {
     "data": {
      "image/png": "[encoded data removed]",
      "text/plain": [
       "<matplotlib.figure.Figure at 0x1bcc9ece208>"
      ]
     },
     "metadata": {},
     "output_type": "display_data"
    }
   ],
   "source": [
    "from keras.models import load_model\n",
    "from keras.preprocessing.image import ImageDataGenerator, array_to_img, img_to_array, load_img\n",
    "import numpy as np\n",
    "%matplotlib inline\n",
    "from matplotlib import pyplot as plt\n",
    "import matplotlib.image as mimage\n",
    "from PIL import ImageFilter\n",
    "from PIL import Image\n",
    "from PIL import ImageEnhance\n",
    "import cv2\n",
    "\n",
    "model = load_model('model.h5')\n",
    "    \n",
    "def plot(image_url):   \n",
    "    img = cv2.imread(image_url)\n",
    "    kernel = np.array([[0,-1,0], [-1,5,-1], [0,-1,0]])\n",
    "    im = cv2.filter2D(img, -1, kernel)\n",
    "    plt.imshow(img)\n",
    "   \n",
    "    \n",
    "def prepare_data(image_url):\n",
    "    img = load_img(image_url,target_size=[28,28],grayscale=True)  # this is a PIL image\n",
    "    x = img_to_array(img)  # this is a Numpy array with shape (1, 150, 15\n",
    "    x = np.expand_dims(x, axis=0)\n",
    "    return x\n",
    "\n",
    "def main():\n",
    "    image_url=\"images/predict/kha3.jpg\"\n",
    "    predictions = model.predict_classes((prepare_data(image_url)))\n",
    "    print(predictions)\n",
    "    plot(image_url)\n",
    "\n",
    "if __name__ == \"__main__\":\n",
    "    main()\n"
   ]
  },
  {
   "cell_type": "code",
   "execution_count": null,
   "metadata": {},
   "outputs": [],
   "source": []
  },
  {
   "cell_type": "code",
   "execution_count": null,
   "metadata": {},
   "outputs": [],
   "source": []
  },
  {
   "cell_type": "code",
   "execution_count": null,
   "metadata": {},
   "outputs": [],
   "source": []
  }
 ],
 "metadata": {
  "kernelspec": {
   "display_name": "Python 3",
   "language": "python",
   "name": "python3"
  },
  "language_info": {
   "codemirror_mode": {
    "name": "ipython",
    "version": 3
   },
   "file_extension": ".py",
   "mimetype": "text/x-python",
   "name": "python",
   "nbconvert_exporter": "python",
   "pygments_lexer": "ipython3",
   "version": "3.6.3"
  }
 },
 "nbformat": 4,
 "nbformat_minor": 2
}
